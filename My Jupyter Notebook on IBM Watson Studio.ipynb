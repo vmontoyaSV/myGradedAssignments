{
    "cells": [
        {
            "cell_type": "markdown",
            "metadata": {
                "collapsed": true
            },
            "source": "# My Jupyter Notebook on IBM Watson Studio"
        },
        {
            "cell_type": "markdown",
            "metadata": {},
            "source": "__V\u00edctor Montoya__\n<br>Business Intelligence Manager"
        },
        {
            "cell_type": "markdown",
            "metadata": {},
            "source": "_I am interested in Data Science because I want to expand my knowledge and tools to exploit the value of data._"
        },
        {
            "cell_type": "markdown",
            "metadata": {},
            "source": "### Generate the fibonacci sequence up to its fifth iteration"
        },
        {
            "cell_type": "code",
            "execution_count": 4,
            "metadata": {},
            "outputs": [
                {
                    "name": "stdout",
                    "output_type": "stream",
                    "text": "0\n1\n1\n2\n3\n"
                }
            ],
            "source": "def fibonacci_hasta(n):\n    a=1\n    b=1\n    if n==1:\n        print('0')\n    elif n==2:\n        print('0','1')\n    else:\n        print('0')\n        print(a)\n        print(b)\n        for i in range(n-3):\n            total = a + b\n            b=a\n            a= total\n            print(total)\n         \nfibonacci_hasta(5)"
        },
        {
            "cell_type": "markdown",
            "metadata": {},
            "source": "***\nIn this task I learned:\n- Create a Jupyter Notebook.\n- Share a Notebook with public access.\n***\n&#9755; [My LinkedIn](https://www.linkedin.com/in/victormontoyasv/)"
        }
    ],
    "metadata": {
        "kernelspec": {
            "display_name": "Python 3.9",
            "language": "python",
            "name": "python3"
        },
        "language_info": {
            "codemirror_mode": {
                "name": "ipython",
                "version": 3
            },
            "file_extension": ".py",
            "mimetype": "text/x-python",
            "name": "python",
            "nbconvert_exporter": "python",
            "pygments_lexer": "ipython3",
            "version": "3.9.13"
        }
    },
    "nbformat": 4,
    "nbformat_minor": 1
}